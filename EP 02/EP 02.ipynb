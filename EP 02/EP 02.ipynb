{
 "cells": [
  {
   "cell_type": "code",
   "execution_count": 2,
   "metadata": {},
   "outputs": [],
   "source": [
    "import numpy as np\n",
    "from scipy import stats\n",
    "from scipy import optimize\n",
    "from scipy import special\n",
    "import matplotlib.pyplot as plt"
   ]
  },
  {
   "cell_type": "code",
   "execution_count": 280,
   "metadata": {},
   "outputs": [],
   "source": [
    "a = 0.16222484\n",
    "b = 0.09532564640\n",
    "x_0 = 0.5\n",
    "n = 100000\n",
    "\n",
    "# Definindo a função f(x)\n",
    "def f(x, a, b):\n",
    "    return np.exp(-a*x) * np.cos(b*x)"
   ]
  },
  {
   "cell_type": "markdown",
   "metadata": {},
   "source": [
    "#### Crude"
   ]
  },
  {
   "cell_type": "code",
   "execution_count": 271,
   "metadata": {},
   "outputs": [
    {
     "data": {
      "text/plain": [
       "0.9217930859943684"
      ]
     },
     "execution_count": 271,
     "metadata": {},
     "output_type": "execute_result"
    }
   ],
   "source": [
    "def crude(f, a, b, n):\n",
    "    lista_x = np.random.uniform(low=0, high=1, size=n) # Gera uma amostra uniforme entre 0 e 1 com n elementos\n",
    "    integral = np.mean(f(lista_x, a, b)) # Calcula a média dos valor de f(x)\n",
    "    return integral\n",
    "\n",
    "crude(f, a, b, n)"
   ]
  },
  {
   "cell_type": "markdown",
   "metadata": {},
   "source": [
    "#### Hit-or-Miss"
   ]
  },
  {
   "cell_type": "code",
   "execution_count": 272,
   "metadata": {},
   "outputs": [
    {
     "data": {
      "text/plain": [
       "0.9216554"
      ]
     },
     "execution_count": 272,
     "metadata": {},
     "output_type": "execute_result"
    }
   ],
   "source": [
    "def hit_or_miss(f, a, b, n):\n",
    "    acerto = 0 # Mantém conta de quantos pontos estão dentro da área de f(x)\n",
    "\n",
    "    for _ in range(n):\n",
    "        x = np.random.uniform(low=0, high=1, size=1) # Gera a coordenada do ponto x [0, 1]\n",
    "        y = np.random.uniform(low=0, high=1, size=1) # Gera a coordenada do ponto y [0, 1]\n",
    "        if y < f(x, a, b): # Verifica se está dentro\n",
    "            acerto += 1\n",
    "\n",
    "    integral = acerto / n\n",
    "    return integral\n",
    "\n",
    "hit_or_miss(f, a, b, n)"
   ]
  },
  {
   "cell_type": "markdown",
   "metadata": {},
   "source": [
    "#### Importance Sampling"
   ]
  },
  {
   "cell_type": "code",
   "execution_count": 290,
   "metadata": {},
   "outputs": [
    {
     "name": "stdout",
     "output_type": "stream",
     "text": [
      "[0.9788176  1.02577892]\n",
      "RMSE: 0.07932503694335659\n",
      "[1.00039985 6.42510353]\n",
      "RMSE: 0.07823970512954273\n",
      "[1.00039789 6.44212331]\n",
      "RMSE: 0.07823936502848959\n",
      "0.921815853984504 0.9217480505549881 0.9217552781123334\n"
     ]
    }
   ],
   "source": [
    "lista_alpha = []\n",
    "lista_beta = []\n",
    "lista_k_gamma = []\n",
    "lista_theta = []\n",
    "lista_k_weibull = []\n",
    "lista_lambda = []\n",
    "\n",
    "# PDF: Probability Density Function\n",
    "# CDF: Cumulative Density Function\n",
    "# Divide-se pela CDF avaliada em x = 1 para adapatar as distribuições ao intervalor [0, 1]\n",
    "\n",
    "def beta(x, alpha, theta):\n",
    "    return stats.beta.pdf(x, alpha, theta)/stats.beta.cdf(1, alpha, theta)\n",
    "\n",
    "def gamma(x, shape, scale):\n",
    "    return stats.gamma.pdf(x, a=shape, scale=scale)/stats.gamma.cdf(1, a=shape, scale=scale)\n",
    "\n",
    "def weibull(x, shape, scale):\n",
    "    return stats.weibull_min.pdf(x, c=shape, scale=scale)/stats.weibull_min.cdf(1, c=shape, scale=scale)\n",
    "\n",
    "def importance_sample(f, a, b, dist, n):\n",
    "    lista_x = np.random.uniform(low=0, high=1, size=1000000) # Gera valores de x aleatórios\n",
    "    lista_x = np.sort(lista_x)\n",
    "    lista_y = f(lista_x, a, b) # Calcula os valores de f(x) correspondentes\n",
    "\n",
    "    if dist == \"beta\":\n",
    "        popt, pcov = optimize.curve_fit(beta, lista_x, lista_y) # Faz o fit por least square\n",
    "        print(popt)\n",
    "\n",
    "        y_pred = beta(lista_x, *popt)\n",
    "        rmse = np.sqrt(np.mean((lista_y - y_pred) ** 2)) # Calcula RMSE\n",
    "        print(\"RMSE:\", rmse)\n",
    "\n",
    "        lista_x = []\n",
    "        while len(lista_x) != n: # Gera pontos segundo a distribuição no intervalo [0, 1] para calcular f(x)/g(x)\n",
    "            i = stats.beta.rvs(popt[0], popt[1], size=1)\n",
    "            if i[0] >=0 and i[0] <= 1:\n",
    "                lista_x.append(i[0])\n",
    "        lista_x = np.array(lista_x)\n",
    "\n",
    "        return np.mean(f(lista_x, a, b)/beta(lista_x, popt[0], popt[1]))\n",
    "    \n",
    "    elif dist == \"gamma\":\n",
    "        popt, pcov = optimize.curve_fit(gamma, lista_x, lista_y) # Faz o fit por least square\n",
    "        print(popt)\n",
    "\n",
    "        y_pred = gamma(lista_x, *popt)\n",
    "        rmse = np.sqrt(np.mean((lista_y - y_pred) ** 2)) # Calcula RMSE\n",
    "        print(\"RMSE:\", rmse)\n",
    "\n",
    "        lista_x = []\n",
    "        while len(lista_x) != n: # Gera pontos segundo a distribuição no intervalo [0, 1] para calcular f(x)/g(x)\n",
    "            i = stats.gamma.rvs(popt[0], scale=popt[1], size=1)\n",
    "            if i[0] >=0 and i[0] <= 1:\n",
    "                lista_x.append(i[0])\n",
    "        lista_x = np.array(lista_x)\n",
    "\n",
    "        return np.mean(f(lista_x, a, b)/gamma(lista_x, shape=popt[0], scale=popt[1]))\n",
    "\n",
    "    elif dist == \"weibull\":\n",
    "        popt, pcov = optimize.curve_fit(weibull, lista_x, lista_y) # Faz o fit por least square\n",
    "        print(popt)\n",
    "\n",
    "        y_pred = weibull(lista_x, *popt)\n",
    "        rmse = np.sqrt(np.mean((lista_y - y_pred) ** 2)) # Calcula RMSE\n",
    "        print(\"RMSE:\", rmse)\n",
    "\n",
    "        lista_x = []\n",
    "        while len(lista_x) != n: # Gera pontos segundo a distribuição no intervalo [0, 1] para calcular f(x)/g(x)\n",
    "            i = stats.weibull_min.rvs(popt[0], scale=popt[1], size=1)\n",
    "            if i[0] >= 0 and i[0] <= 1:\n",
    "                lista_x.append(i[0])\n",
    "        lista_x = np.array(lista_x)\n",
    "\n",
    "        return np.mean(f(lista_x, a, b)/weibull(lista_x, popt[0], popt[1]))\n",
    "    \n",
    "print(importance_sample(f, a, b, \"beta\", n), importance_sample(f, a, b, \"gamma\", n), importance_sample(f, a, b, \"weibull\", n))"
   ]
  },
  {
   "cell_type": "markdown",
   "metadata": {},
   "source": [
    "#### Control Variate"
   ]
  },
  {
   "cell_type": "code",
   "execution_count": 287,
   "metadata": {},
   "outputs": [
    {
     "data": {
      "text/plain": [
       "0.9217613658378829"
      ]
     },
     "execution_count": 287,
     "metadata": {},
     "output_type": "execute_result"
    }
   ],
   "source": [
    "# Definindo o polinômio\n",
    "def p(x, x_0, f, a, b):\n",
    "    return f(x_0, a, b) - (a*np.exp(-a*x_0)*np.cos(b*x_0) + b*np.exp(-a*x_0)*np.sin(b*x_0))*(x - x_0)\n",
    "\n",
    "# Definindo a integral de p(x)\n",
    "def integral_p(x, x_0, f, a, b):\n",
    "    return (f(x_0, a, b) + (a*np.exp(-a*x_0)*np.cos(b*x_0) + b*np.exp(-a*x_0)*np.sin(b*x_0))*x_0)*x - (a*np.exp(-a*x_0)*np.cos(b*x_0) + b*np.exp(-a*x_0)*np.sin(b*x_0))*(x**2)/2\n",
    "\n",
    "def control_variate(f, a, b, p, x_0, n):\n",
    "    lista_x = np.random.uniform(low=0, high=1, size=n) # Gera valores de x aleatórios\n",
    "    lista_x = np.sort(lista_x)\n",
    "\n",
    "    def funcao(f, a, b, p, x, x_0, integral_p): # Função que calcula f(x) - p(x) + integral(p(x) entre 0 e 1)\n",
    "        parte_1 = f(x, a, b) - p(x, x_0, f, a, b)\n",
    "        parte_2 = integral_p(1, x_0, f, a, b) - integral_p(0, x_0, f, a, b)\n",
    "        return parte_1 + parte_2\n",
    "\n",
    "    lista_resultados = funcao(f, a, b, p, lista_x, x_0, integral_p)\n",
    "\n",
    "    return np.sum(lista_resultados)/n\n",
    "\n",
    "control_variate(f, a, b, p, 0.5, n)"
   ]
  },
  {
   "cell_type": "markdown",
   "metadata": {},
   "source": [
    "### **Definição do Valor de n**\n",
    "\n",
    "##### Ao obter-se uma amostra aleatória de tamanho $n$, pode-se utilizar a proporção amostral $p_a$ para estimar a proporção populacional $p$.\n",
    "##### Com n grande, tem-se uma aproximação para uma distribuição normal: $p_a = N(p, \\frac{p(1-p)}{n})$. Assim, obtem-se um intervalo de confiança para a proporção populacional (p) (com $\\sigma_{p_m} = \\sqrt{\\frac{p_a \\cdot (1 - p_a)}{n}}$):\n",
    "$$IC_p = \\left[p_a - z \\cdot \\sqrt{\\frac{p_a \\cdot (1 - p_a)}{n}}, p_a + z \\cdot \\sqrt{\\frac{p_a \\cdot (1 - p_a)}{n}}\\right]$$\n",
    "##### Definindo-se a margem de erro ($e$) como metade do tamanho do intervalo de confiança, tem-se que: $$e = z \\cdot \\sqrt{\\frac{p_a \\cdot (1 - p_a)}{n}}$$ **$$n = \\left(\\frac{z}{e}\\right)^{2} \\cdot p_a \\cdot (1 - p_a)$$**"
   ]
  },
  {
   "cell_type": "markdown",
   "metadata": {},
   "source": [
    "##### Para o valor de $p_a$, pode-se simplesmente estimá-lo ao rodar diversas vezes a simulação e obter uma média dos resultados. Assim, $p_a = \\mu$.\n",
    "##### No entanto, assumindo que não se conhece uma estimativa para o valor de da integral (e, logo, para $p$), assume-se $p_a=0.5$ para obter o maior valor de n possível: **$$n=\\left(\\frac{z}{e}\\right)^{2} \\cdot 0.25$$**\n",
    "\n",
    "###### - $z =$ z-score | $e =$ erro tolerado | $p =$ estimativa pontos dentro/pontos total"
   ]
  },
  {
   "cell_type": "markdown",
   "metadata": {},
   "source": [
    "##### Como $ \\int_{0}^{1} f(x) \\,dx = p$, sendo $p = \\frac{n_{dentro}}{n_{total}}$, tem-se que $area_{a} = p$ e $\\sigma_{area_m} = \\sigma_{p_m}$. Assim:\n",
    "$$IC_{area} = \\left[area_a - z \\cdot \\sqrt{\\frac{p_a \\cdot (1 - p_a)}{n}}, area_a + z \\cdot \\sqrt{\\frac{p_a \\cdot (1 - p_a)}{n}}\\right]$$\n",
    "\n",
    "##### Portanto, analogamente ao processo anterior, tem-se que:\n",
    "**$$n_{area} = \\left(\\frac{z}{e}\\right)^{2} \\cdot p_a \\cdot (1 - p_a)$$**\n",
    "\n",
    "##### Similarmente, no pior dos casos:\n",
    "**$$n_{area}=\\left(\\frac{z}{e}\\right)^{2} \\cdot 0.25$$**"
   ]
  },
  {
   "cell_type": "code",
   "execution_count": 247,
   "metadata": {},
   "outputs": [
    {
     "data": {
      "image/png": "[encoded data removed]",
      "text/plain": [
       "<Figure size 640x480 with 1 Axes>"
      ]
     },
     "metadata": {},
     "output_type": "display_data"
    }
   ],
   "source": [
    "lista_x = np.random.uniform(low=0, high=10, size=100000)\n",
    "# Ordenar lista_x e lista_y com base em lista_x\n",
    "lista_x_sorted = np.sort(lista_x)\n",
    "lista_y_sorted = f(lista_x_sorted, a, b)\n",
    "\n",
    "# Plotar o gráfico de linha\n",
    "plt.plot(lista_x_sorted, lista_y_sorted)\n",
    "plt.xlabel('x')\n",
    "plt.ylabel('y')\n",
    "plt.title('Gráfico de f(x)')\n",
    "plt.grid(True)\n",
    "\n",
    "plt.xlim(0, 1.2)\n",
    "plt.ylim(0, 1.2)\n",
    "plt.xticks(np.arange(0, 1.2, 0.1))\n",
    "plt.yticks(np.arange(0, 1.2, 0.1))\n",
    "\n",
    "quadrado_x = [0, 0, 1, 1, 0]\n",
    "quadrado_y = [0, 1, 1, 0, 0]\n",
    "plt.fill_between(quadrado_x, quadrado_y, color='grey', alpha=0.3)\n",
    "\n",
    "plt.show()"
   ]
  },
  {
   "cell_type": "code",
   "execution_count": 286,
   "metadata": {},
   "outputs": [
    {
     "data": {
      "image/png": "[encoded data removed]",
      "text/plain": [
       "<Figure size 640x480 with 1 Axes>"
      ]
     },
     "metadata": {},
     "output_type": "display_data"
    }
   ],
   "source": [
    "lista_x = np.random.uniform(low=0, high=1, size=100000)\n",
    "# Ordenar lista_x e lista_y com base em lista_x\n",
    "lista_x = np.sort(lista_x)\n",
    "lista_y_f = f(lista_x, a, b)\n",
    "lista_y_p = p(lista_x, x_0, f, a, b)\n",
    "\n",
    "correlacao = np.corrcoef(lista_y_f, lista_y_p)[0,1]\n",
    "\n",
    "# Plotar o gráfico de linha\n",
    "plt.plot(lista_x, lista_y_f, label=\"f(x)\")\n",
    "plt.plot(lista_x, lista_y_p, label=\"p(x)\")\n",
    "plt.xlabel('x')\n",
    "plt.ylabel('y')\n",
    "plt.title(f'f(x) x p(x) - Correlação: {correlacao}')\n",
    "plt.legend()\n",
    "plt.grid(True)\n",
    "plt.show()"
   ]
  },
  {
   "cell_type": "markdown",
   "metadata": {},
   "source": [
    "##### Encontrando os parâmetros ideais para as distribuições e o RMSE"
   ]
  },
  {
   "cell_type": "code",
   "execution_count": 299,
   "metadata": {},
   "outputs": [
    {
     "name": "stdout",
     "output_type": "stream",
     "text": [
      "[0.9788256818982228, 1.0257397447007375, 0.07931965354227562]\n",
      "[1.0002706946318172, 6.47503086049205, 0.07823223676712485]\n",
      "[1.000251913193641, 6.487859164365142, 0.07823207213520332]\n",
      "[0.9788256818982228, 1.0257397447007375, 0.07931965354227562] [1.0002706946318172, 6.47503086049205, 0.07823223676712485] [1.000251913193641, 6.487859164365142, 0.07823207213520332]\n"
     ]
    }
   ],
   "source": [
    "lista_alpha = []\n",
    "lista_beta = []\n",
    "lista_k_gamma = []\n",
    "lista_theta = []\n",
    "lista_k_weibull = []\n",
    "lista_lambda = []\n",
    "\n",
    "# PDF: Probability Density Function\n",
    "# CDF: Cumulative Density Function\n",
    "# Divide-se pela CDF avaliada em x = 1 para adapatar as distribuições ao intervalor [0, 1]\n",
    "\n",
    "def beta(x, alpha, theta):\n",
    "    return stats.beta.pdf(x, alpha, theta)/stats.beta.cdf(1, alpha, theta)\n",
    "\n",
    "def gamma(x, shape, scale):\n",
    "    return stats.gamma.pdf(x, a=shape, scale=scale)/stats.gamma.cdf(1, a=shape, scale=scale)\n",
    "\n",
    "def weibull(x, shape, scale):\n",
    "    return stats.weibull_min.pdf(x, c=shape, scale=scale)/stats.weibull_min.cdf(1, c=shape, scale=scale)\n",
    "\n",
    "def importance_sample(f, a, b, dist, n):\n",
    "    lista_popt_0 = []\n",
    "    lista_popt_1 = []\n",
    "    lista_rmse = []\n",
    "    for _ in range(n):\n",
    "        lista_x = np.random.uniform(low=0, high=1, size=10000) # Gera valores de x aleatórios\n",
    "        lista_x = np.sort(lista_x)\n",
    "        lista_y = f(lista_x, a, b) # Calcula os valores de f(x) correspondentes\n",
    "\n",
    "        if dist == \"beta\":\n",
    "            popt, pcov = optimize.curve_fit(beta, lista_x, lista_y) # Faz o fit por least square\n",
    "\n",
    "            y_pred = beta(lista_x, *popt)\n",
    "            rmse = np.sqrt(np.mean((lista_y - y_pred) ** 2)) # Calcula RMSE\n",
    "\n",
    "            lista_popt_0.append(popt[0])\n",
    "            lista_popt_1.append(popt[1])\n",
    "            lista_rmse.append(rmse)\n",
    "        \n",
    "        elif dist == \"gamma\":\n",
    "            popt, pcov = optimize.curve_fit(gamma, lista_x, lista_y) # Faz o fit por least square\n",
    "\n",
    "            y_pred = gamma(lista_x, *popt)\n",
    "            rmse = np.sqrt(np.mean((lista_y - y_pred) ** 2)) # Calcula RMSE\n",
    "\n",
    "            lista_popt_0.append(popt[0])\n",
    "            lista_popt_1.append(popt[1])\n",
    "            lista_rmse.append(rmse)\n",
    "\n",
    "        elif dist == \"weibull\":\n",
    "            popt, pcov = optimize.curve_fit(weibull, lista_x, lista_y) # Faz o fit por least square\n",
    "\n",
    "            y_pred = weibull(lista_x, *popt)\n",
    "            rmse = np.sqrt(np.mean((lista_y - y_pred) ** 2)) # Calcula RMSE\n",
    "\n",
    "            lista_popt_0.append(popt[0])\n",
    "            lista_popt_1.append(popt[1])\n",
    "            lista_rmse.append(rmse)\n",
    "\n",
    "    print([np.mean(lista_popt_0), np.mean(lista_popt_1), np.mean(lista_rmse)])\n",
    "    return [np.mean(lista_popt_0), np.mean(lista_popt_1), np.mean(lista_rmse)]\n",
    "    \n",
    "print(importance_sample(f, a, b, \"beta\", 1000), importance_sample(f, a, b, \"gamma\", 1000), importance_sample(f, a, b, \"weibull\", 1000))"
   ]
  }
 ],
 "metadata": {
  "kernelspec": {
   "display_name": "Python 3",
   "language": "python",
   "name": "python3"
  },
  "language_info": {
   "codemirror_mode": {
    "name": "ipython",
    "version": 3
   },
   "file_extension": ".py",
   "mimetype": "text/x-python",
   "name": "python",
   "nbconvert_exporter": "python",
   "pygments_lexer": "ipython3",
   "version": "3.11.4"
  }
 },
 "nbformat": 4,
 "nbformat_minor": 2
}
