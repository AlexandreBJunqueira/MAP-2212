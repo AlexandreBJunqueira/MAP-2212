{
 "cells": [
  {
   "cell_type": "code",
   "execution_count": 89,
   "metadata": {},
   "outputs": [],
   "source": [
    "import numpy as np\n",
    "import random\n",
    "import matplotlib.pyplot as plt\n",
    "from scipy.special import gamma\n",
    "import time"
   ]
  },
  {
   "cell_type": "code",
   "execution_count": 90,
   "metadata": {},
   "outputs": [
    {
     "data": {
      "text/plain": [
       "array([12, 17, 16, 16, 14, 11])"
      ]
     },
     "execution_count": 90,
     "metadata": {},
     "output_type": "execute_result"
    }
   ],
   "source": [
    "# Inicia o cronômetro\n",
    "start_time = time.time()\n",
    "\n",
    "n = 5*10**6 # Número de vetores thetas\n",
    "k = 17*10**3 # Número de bins\n",
    "m = 6 # Dimensionalidade\n",
    "x = np.random.randint(0, 11, m) # Vetor x\n",
    "y = np.random.randint(0, 11, m) # Vetor y\n",
    "\n",
    "alfa = x + y # Vetor Alfa = Vetor x + Vetor y\n",
    "alfa"
   ]
  },
  {
   "cell_type": "code",
   "execution_count": 91,
   "metadata": {},
   "outputs": [],
   "source": [
    "def f(theta, alfa, constante):\n",
    "    log_produtorio = np.sum((alfa - 1) * np.log(theta), axis=1) # Para acelerar as operações, faz-se log do produtório (vira somatório)\n",
    "    return np.exp(log_produtorio)/constante\n",
    "\n",
    "def beta_multivariavel(alfa): # Beta(a + b) = Gamma(a)Gamma(b)/Gamma(a + b)\n",
    "    log_produtorio = np.sum(np.log(gamma(alfa)))\n",
    "    return np.exp(log_produtorio)/gamma(np.sum(alfa))"
   ]
  },
  {
   "cell_type": "code",
   "execution_count": 92,
   "metadata": {},
   "outputs": [],
   "source": [
    "def gerador_dirichlet(alfa, n): # Essa função gera amostras dirichlet utilizando a função gamma: y_i = x_i/sum(x)\n",
    "    # Gera amostras da distribuição gamma\n",
    "    samples = np.random.gamma(alfa, 1, size=(n, m))\n",
    "    \n",
    "    # Normalize as amostras para que a soma de cada vetor seja 1\n",
    "    thetas = samples / np.sum(samples, axis=1)[:, np.newaxis]\n",
    "\n",
    "    return thetas"
   ]
  },
  {
   "cell_type": "code",
   "execution_count": 93,
   "metadata": {},
   "outputs": [],
   "source": [
    "def criar_lista_v(lista_f_ord, n, k):\n",
    "    # Define-se os pontos de corte v\n",
    "    # - v_0 = 0; v_k = sup(f(theta))\n",
    "    resto = n % k\n",
    "    tamanho_bin = n // k\n",
    "\n",
    "    # No entanto, quando n%k = c != 0, precisa-se adaptar o tamanho de c bins com um ponto a mais\n",
    "    ajuste = np.concatenate((np.arange(1, resto + 1), np.array([resto] * (k - resto)))) # Array para ajustar o tamanho dos bins\n",
    "    lista_intermed = np.arange(1, k + 1) * tamanho_bin + ajuste\n",
    "    lista_v = np.concatenate(([0], lista_f_ord[lista_intermed - 1]))\n",
    "    return lista_v, lista_intermed"
   ]
  },
  {
   "cell_type": "code",
   "execution_count": 94,
   "metadata": {},
   "outputs": [],
   "source": [
    "thetas = gerador_dirichlet(alfa, n) # Lista de Vetores theta\n",
    "\n",
    "constante = beta_multivariavel(alfa)\n",
    "lista_f = f(thetas, alfa, constante) # Aplicar f em cada vetor theta"
   ]
  },
  {
   "cell_type": "code",
   "execution_count": 95,
   "metadata": {},
   "outputs": [],
   "source": [
    "lista_f_ord = np.sort(lista_f) # Ordena a lista de resultados\n",
    "sup_f = lista_f_ord[-1] # Define o supremo de f(theta) como o valor máximo obtido\n",
    "\n",
    "lista_v, lista_intermed = criar_lista_v(lista_f_ord, n, k)"
   ]
  },
  {
   "cell_type": "code",
   "execution_count": 96,
   "metadata": {},
   "outputs": [],
   "source": [
    "from scipy.interpolate import PchipInterpolator"
   ]
  },
  {
   "cell_type": "code",
   "execution_count": 97,
   "metadata": {},
   "outputs": [],
   "source": [
    "fracao = np.concatenate((np.array([0]), lista_intermed))/n # Identifica a fração total de pontos de 0 até o ponto v\n",
    "\n",
    "interp = PchipInterpolator(lista_v, fracao)\n",
    "# Utiliza um interpolador PCHIP para gerar um polinômio de terceiro grau que aproxime W(v)\n",
    "# Dessa forma, obtém-se U(v)\n",
    "\n",
    "# Define os pontos onde deseja-se avaliar a função interpolada\n",
    "x_new = np.linspace(0, lista_v[-1], 100)\n",
    "\n",
    "# Avalia a função interpolada nos novos pontos\n",
    "y_new = interp(x_new)"
   ]
  },
  {
   "cell_type": "code",
   "execution_count": 98,
   "metadata": {},
   "outputs": [
    {
     "name": "stdout",
     "output_type": "stream",
     "text": [
      "Tempo decorrido: 2.2138092517852783 segundos\n"
     ]
    }
   ],
   "source": [
    "# Termina o cronômetro\n",
    "end_time = time.time()\n",
    "\n",
    "# Tempo decorrido em segundos\n",
    "elapsed_time = end_time - start_time\n",
    "print(f\"Tempo decorrido: {elapsed_time} segundos\")"
   ]
  },
  {
   "cell_type": "code",
   "execution_count": 99,
   "metadata": {},
   "outputs": [
    {
     "name": "stdout",
     "output_type": "stream",
     "text": [
      "0.00043826932358995873 5.882352941176471e-05\n"
     ]
    },
    {
     "data": {
      "text/plain": [
       "0.04970928530017235"
      ]
     },
     "execution_count": 99,
     "metadata": {},
     "output_type": "execute_result"
    }
   ],
   "source": [
    "z_score = 1.96\n",
    "erro_n = z_score/(2*(n**(1/2)))\n",
    "erro_k = 1/k\n",
    "print(erro_n, erro_k)\n",
    "\n",
    "erro_total = erro_n + erro_k\n",
    "erro_total*(10**2)"
   ]
  }
 ],
 "metadata": {
  "kernelspec": {
   "display_name": "Python 3",
   "language": "python",
   "name": "python3"
  },
  "language_info": {
   "codemirror_mode": {
    "name": "ipython",
    "version": 3
   },
   "file_extension": ".py",
   "mimetype": "text/x-python",
   "name": "python",
   "nbconvert_exporter": "python",
   "pygments_lexer": "ipython3",
   "version": "3.11.4"
  }
 },
 "nbformat": 4,
 "nbformat_minor": 2
}
