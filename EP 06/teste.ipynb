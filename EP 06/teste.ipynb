{
 "cells": [
  {
   "cell_type": "code",
   "execution_count": null,
   "metadata": {},
   "outputs": [],
   "source": [
    "n_hardy = 20\n",
    "x_1 = 1\n",
    "x_3 = 2\n",
    "x_2 = n_hardy - x_1 - x_3"
   ]
  },
  {
   "cell_type": "code",
   "execution_count": null,
   "metadata": {},
   "outputs": [],
   "source": [
    "def f(thetas, x_1, x_2, x_3):\n",
    "    return (thetas[0]**x_1)*(thetas[1]**x_2)*(thetas[2]**x_3)"
   ]
  },
  {
   "cell_type": "code",
   "execution_count": null,
   "metadata": {},
   "outputs": [],
   "source": [
    "def gerar_hip_nula(lista_thetas):\n",
    "    hip_nula = []\n",
    "    for thetas in lista_thetas:\n",
    "        if thetas[2] == (1 - (thetas[0])**(1/2))**2:\n",
    "            hip_nula.append()\n",
    "    return hip_nula"
   ]
  },
  {
   "cell_type": "code",
   "execution_count": null,
   "metadata": {},
   "outputs": [],
   "source": [
    "lista_thetas = gerador_dirichlet() ###################\n",
    "hip_nula = gerar_hip_nula(lista_thetas)\n",
    "resultados_nula = f(hip_nula)\n",
    "phi = max(resultados_nula)"
   ]
  },
  {
   "cell_type": "code",
   "execution_count": null,
   "metadata": {},
   "outputs": [],
   "source": [
    "resultados = f(lista_thetas)\n",
    "\n",
    "soma = 0\n",
    "i = 0\n",
    "for resultado in resultados:\n",
    "    if resultado > phi:\n",
    "        soma += resultado\n",
    "        i += 1\n",
    "\n",
    "k_estrela = soma/i\n",
    "e_valor = 1 - k_estrela"
   ]
  }
 ],
 "metadata": {
  "kernelspec": {
   "display_name": "Python 3",
   "language": "python",
   "name": "python3"
  },
  "language_info": {
   "name": "python",
   "version": "3.11.4"
  }
 },
 "nbformat": 4,
 "nbformat_minor": 2
}
