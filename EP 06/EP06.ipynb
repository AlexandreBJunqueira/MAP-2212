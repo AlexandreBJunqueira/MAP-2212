{
 "cells": [
  {
   "cell_type": "markdown",
   "metadata": {},
   "source": [
    "Importando as Bibliotecas"
   ]
  },
  {
   "cell_type": "code",
   "execution_count": 5,
   "metadata": {},
   "outputs": [],
   "source": [
    "import numpy as np\n",
    "import plotly.graph_objects as go\n",
    "from scipy.special import gamma\n",
    "import scipy.stats as stats\n",
    "import arviz as az\n",
    "import matplotlib.pyplot as plt\n",
    "from scipy.optimize import minimize"
   ]
  },
  {
   "cell_type": "markdown",
   "metadata": {},
   "source": [
    "#### Definindo Variáveis Iniciais"
   ]
  },
  {
   "cell_type": "code",
   "execution_count": 6,
   "metadata": {},
   "outputs": [
    {
     "name": "stdout",
     "output_type": "stream",
     "text": [
      "[13  8  6]\n"
     ]
    }
   ],
   "source": [
    "n = 10**4 # Número de vetores thetas\n",
    "k = 10**1 # Número de bins\n",
    "m = 3 # Dimensionalidade\n",
    "x = np.random.randint(0, 11, m) # Vetor x\n",
    "y = np.random.randint(0, 11, m) # Vetor y\n",
    "\n",
    "alfa = x + y # Vetor Alfa = Vetor x + Vetor y\n",
    "print(alfa)"
   ]
  },
  {
   "cell_type": "markdown",
   "metadata": {},
   "source": [
    "#### Definindo Funções Principais"
   ]
  },
  {
   "cell_type": "code",
   "execution_count": 7,
   "metadata": {},
   "outputs": [],
   "source": [
    "def f(theta, alfa, constante):\n",
    "    log_produtorio = np.sum((alfa - 1) * np.log(theta), axis=1) # Para acelerar as operações, faz-se log do produtório (vira somatório)\n",
    "    return np.exp(log_produtorio)/constante\n",
    "\n",
    "def beta_multivariavel(alfa): # Beta(a + b) = Gamma(a)Gamma(b)/Gamma(a + b)\n",
    "    log_produtorio = np.sum(np.log(gamma(alfa)))\n",
    "    return np.exp(log_produtorio)/gamma(np.sum(alfa))"
   ]
  },
  {
   "cell_type": "markdown",
   "metadata": {},
   "source": [
    "#### Gerando Amostras por meio de MCMC"
   ]
  },
  {
   "cell_type": "code",
   "execution_count": 40,
   "metadata": {},
   "outputs": [],
   "source": [
    "def f_dir(x, a):\n",
    "    if ((x < 0).any()): return 0.0\n",
    "    t=np.empty_like(x)\n",
    "    for i in range(len(x)):\n",
    "        t[i]=np.power(x[i],(a[i]-1))\n",
    "    return np.prod(t)\n",
    "\n",
    "def cria_cov(alfa):\n",
    "    M = [0.0]*(m - 1)\n",
    "    M = [M]*(m - 1)\n",
    "    M = np.array(M)\n",
    "\n",
    "    for i in range(m - 1):\n",
    "        for j in range(m - 1):\n",
    "\n",
    "            if i == j:\n",
    "                M[i, j] = alfa[i] * (sum(alfa) - alfa[i]) / \\\n",
    "                          ((sum(alfa) ** 2) * (sum(alfa) + 1))  # cálculo das variâncias\n",
    "            else:\n",
    "                M[i, j] = -alfa[i] * alfa[j] / \\\n",
    "                      ((sum(alfa) ** 2) * (sum(alfa) + 1))  # cálculo das covariâncias\n",
    "\n",
    "    return M\n",
    "\n",
    "def met_ac(pontos,p,b,alfa):\n",
    "    for i in range(1,len(pontos)):\n",
    "        ponto_atual = [0]*m\n",
    "        for j in range(m - 1):\n",
    "            ponto_atual[j] = pontos[i-1][j] + p[i,j]\n",
    "        ponto_atual[-1] = 1 - np.sum(ponto_atual[:-1])\n",
    "        ponto_atual = np.array(ponto_atual)\n",
    "        # algoritmo de aceitação de Metropolis\n",
    "        ac = min(1, f_dir(ponto_atual, alfa) /\n",
    "                 f_dir(pontos[i-1], alfa))\n",
    "        if ac >= b[i]:\n",
    "            pontos[i] = np.array(ponto_atual)\n",
    "        else:\n",
    "            pontos[i] = pontos[i-1]\n",
    "\n",
    "    return pontos\n",
    "\n",
    "def calcular_burn_in(cadeia, alfa, limiar_densidade=0.5):\n",
    "    densidades = np.array([f_dir(theta, alfa) for theta in cadeia])\n",
    "    max_densidade = np.max(densidades)\n",
    "    limiar_alto = limiar_densidade * max_densidade\n",
    "\n",
    "    max_index = 0\n",
    "    max_density_value = 0\n",
    "\n",
    "    for i, densidade in enumerate(densidades[:len(cadeia) // 4]):\n",
    "        if densidade >= limiar_alto:\n",
    "            return i\n",
    "        if densidade > max_density_value:\n",
    "            max_density_value = densidade\n",
    "            max_index = i\n",
    "    \n",
    "    return max_index\n",
    "\n",
    "def gera_dir(alfa, n):\n",
    "    \n",
    "    thetas = np.array([np.array([1]*m)/m for _ in range(n)])\n",
    "    M = cria_cov(alfa)\n",
    "    \n",
    "    p = np.random.multivariate_normal([0]*(m - 1), M,size=n)  # gera da Normal Multivariada\n",
    "    b = np.random.uniform(0,1,size=n)\n",
    "    dir=met_ac(thetas,p,b,alfa)\n",
    "\n",
    "    burn_in = calcular_burn_in(dir, alfa)\n",
    "    return dir[burn_in:]"
   ]
  },
  {
   "cell_type": "code",
   "execution_count": 27,
   "metadata": {},
   "outputs": [],
   "source": [
    "n_hardy = 20\n",
    "x_1 = 1\n",
    "x_3 = 8\n",
    "x_2 = n_hardy - x_1 - x_3"
   ]
  },
  {
   "cell_type": "code",
   "execution_count": 11,
   "metadata": {},
   "outputs": [],
   "source": [
    "# Definindo a função f_hardy\n",
    "def f_hardy(thetas, x_1, x_2, x_3):\n",
    "    return (thetas[0]**x_1) * (thetas[1]**x_2) * (thetas[2]**x_3)\n",
    "\n",
    "# Definindo a função f_nula\n",
    "def f_nula(theta_1, x_1, x_2, x_3):\n",
    "    theta_3 = (1 - theta_1**(1/2))**2\n",
    "    theta_2 = 1 - theta_1 - theta_3\n",
    "\n",
    "    return (theta_1[0]**x_1) * (theta_2[0]**x_2) * (theta_3[0]**x_3)\n",
    "\n",
    "# Função a ser minimizada apenas em theta_1\n",
    "def neg_f_nula(theta_1, x_1, x_2, x_3):\n",
    "    value = -f_nula(theta_1, x_1, x_2, x_3)\n",
    "    return value\n",
    "\n",
    "def calcular_phi(vetor_x):\n",
    "    # Minimizar a função com a restrição\n",
    "    result = minimize(neg_f_nula, x0=0.5, bounds=[(0, 1)], method='Powell', args=(vetor_x[0], vetor_x[1], vetor_x[2]))  # x0 é o palpite inicial para theta_1\n",
    "\n",
    "    # Ponto onde o máximo ocorre e o valor máximo de f_hardy\n",
    "    theta_estrela_1 = result.x[0]\n",
    "    phi = f_nula(np.array([theta_estrela_1]), vetor_x[0], vetor_x[1], vetor_x[2])\n",
    "    return phi"
   ]
  },
  {
   "cell_type": "code",
   "execution_count": 24,
   "metadata": {},
   "outputs": [],
   "source": [
    "def e_valor(vetor_x):\n",
    "    alfa = np.array([vetor_x[0] + 1, vetor_x[1] + 1, vetor_x[2] + 1])\n",
    "    lista_thetas = gera_dir(alfa, n)\n",
    "    resultados = f(lista_thetas, alfa, 1)\n",
    "\n",
    "    # Função para calcular a área abaixo da curva\n",
    "    def calcula_area(resultados, phi):\n",
    "        # Área total dos resultados\n",
    "        area_total = len(resultados)\n",
    "        \n",
    "        # Área abaixo dos resultados\n",
    "        area_resultados = np.sum(resultados <= phi)\n",
    "        \n",
    "        # Estimativa da área multiplicando pela proporção de resultados abaixo da curva e o volume do espaço de amostragem\n",
    "        area_estimada = (area_resultados / area_total)\n",
    "        \n",
    "        return area_estimada\n",
    "\n",
    "    phi = calcular_phi(vetor_x)\n",
    "    print(phi)\n",
    "    # Calcula a área abaixo somente dos resultados maiores que phi\n",
    "    area_phi = calcula_area(resultados, phi)\n",
    "\n",
    "    return area_phi"
   ]
  },
  {
   "cell_type": "code",
   "execution_count": 50,
   "metadata": {},
   "outputs": [
    {
     "data": {
      "text/plain": [
       "[[1, 17, 2],\n",
       " [1, 16, 3],\n",
       " [1, 15, 4],\n",
       " [1, 14, 5],\n",
       " [1, 13, 6],\n",
       " [1, 12, 7],\n",
       " [1, 11, 8],\n",
       " [1, 10, 9],\n",
       " [1, 9, 10],\n",
       " [1, 8, 11],\n",
       " [1, 7, 12],\n",
       " [1, 6, 13],\n",
       " [1, 5, 14],\n",
       " [1, 4, 15],\n",
       " [1, 3, 16],\n",
       " [1, 2, 17],\n",
       " [1, 1, 18],\n",
       " [5, 15, 0],\n",
       " [5, 14, 1],\n",
       " [5, 13, 2],\n",
       " [5, 12, 3],\n",
       " [5, 11, 4],\n",
       " [5, 10, 5],\n",
       " [5, 9, 6],\n",
       " [5, 8, 7],\n",
       " [5, 7, 8],\n",
       " [5, 6, 9],\n",
       " [5, 5, 10],\n",
       " [9, 11, 0],\n",
       " [9, 10, 1],\n",
       " [9, 9, 2],\n",
       " [9, 8, 3],\n",
       " [9, 7, 4],\n",
       " [9, 6, 5],\n",
       " [9, 5, 6],\n",
       " [9, 4, 7]]"
      ]
     },
     "execution_count": 50,
     "metadata": {},
     "output_type": "execute_result"
    }
   ],
   "source": [
    "# Gerando x_1, x_2, x_3\n",
    "lista = []\n",
    "for x_3 in range(2, 19):\n",
    "    lista.append([1, n_hardy - 1 - x_3, x_3])\n",
    "\n",
    "for x_3 in range(0, 11):\n",
    "    lista.append([5, n_hardy - 5 - x_3, x_3])\n",
    "\n",
    "for x_3 in range(0, 8):\n",
    "    lista.append([9, n_hardy - 9 - x_3, x_3])\n",
    "\n",
    "lista"
   ]
  },
  {
   "cell_type": "code",
   "execution_count": null,
   "metadata": {},
   "outputs": [],
   "source": [
    "e_valores = []\n",
    "for vetor in lista:\n",
    "    e_valores.append(e_valor(vetor))\n",
    "e_valores"
   ]
  },
  {
   "cell_type": "code",
   "execution_count": 90,
   "metadata": {},
   "outputs": [],
   "source": [
    "def criar_lista_v(lista_f_ord, n, k):\n",
    "    # Define-se os pontos de corte v\n",
    "    # - v_0 = 0; v_k = sup(f(theta))\n",
    "    resto = n % k\n",
    "    tamanho_bin = n // k\n",
    "\n",
    "    # No entanto, quando n%k = c != 0, precisa-se adaptar o tamanho de c bins com um ponto a mais\n",
    "    ajuste = np.concatenate((np.arange(1, resto + 1), np.array([resto] * (k - resto)))) # Array para ajustar o tamanho dos bins\n",
    "    lista_intermed = np.arange(1, k + 1) * tamanho_bin + ajuste\n",
    "    lista_v = np.concatenate(([0], lista_f_ord[lista_intermed - 1]))\n",
    "    return lista_v, lista_intermed"
   ]
  },
  {
   "cell_type": "markdown",
   "metadata": {},
   "source": [
    "#### Gerando Thetas e Aplicando $f(\\theta)$"
   ]
  },
  {
   "cell_type": "code",
   "execution_count": 52,
   "metadata": {},
   "outputs": [],
   "source": [
    "listas_f = []\n",
    "for vetor in lista:\n",
    "    alfa = np.array([vetor[0] + 1, vetor[1] + 1, vetor[2] + 1])\n",
    "    thetas = gera_dir(alfa, n)\n",
    "    listas_f.append(f(thetas, alfa, 1))"
   ]
  },
  {
   "cell_type": "markdown",
   "metadata": {},
   "source": [
    "#### Ordenando as Listas e Criando Cortes"
   ]
  },
  {
   "cell_type": "code",
   "execution_count": 87,
   "metadata": {},
   "outputs": [],
   "source": [
    "listas_f_ord = []\n",
    "for lista_f in listas_f:\n",
    "    listas_f_ord.append(np.sort(lista_f)) # Ordena a lista de resultados\n",
    "\n",
    "listas_v = []\n",
    "listas_intermed = []\n",
    "\n",
    "for lista_f_ord in listas_f_ord:\n",
    "    lista_v, lista_intermed = criar_lista_v(lista_f_ord, len(lista_f_ord), k)\n",
    "    listas_v.append(lista_v)\n",
    "    listas_intermed(listas_intermed)"
   ]
  },
  {
   "cell_type": "markdown",
   "metadata": {},
   "source": [
    "#### Interpolando os Dados e Expondo Gráficos"
   ]
  },
  {
   "cell_type": "code",
   "execution_count": 89,
   "metadata": {},
   "outputs": [],
   "source": [
    "from scipy.interpolate import PchipInterpolator"
   ]
  },
  {
   "cell_type": "code",
   "execution_count": 90,
   "metadata": {},
   "outputs": [
    {
     "data": {
      "application/vnd.plotly.v1+json": {
       "config": {
        "plotlyServerURL": "https://plot.ly"
       },
       "data": [
        {
         "marker": {
          "color": "blue",
          "symbol": "circle"
         },
         "mode": "markers",
         "name": "Dados Originais",
         "type": "scatter",
         "x": [
          0,
          3.148181366400265,
          5.908250547728358,
          8.66057021403687,
          11.304477971998972,
          13.88556627162899,
          16.84850360207874,
          19.472480391483142,
          21.87585987949595,
          24.27353981979197,
          26.91415622579942
         ],
         "y": [
          0,
          0.0998,
          0.1996,
          0.2994,
          0.3992,
          0.499,
          0.5988,
          0.6985,
          0.7982,
          0.8979,
          0.9976
         ]
        },
        {
         "mode": "lines",
         "name": "Interpolação PCHIP",
         "type": "scatter",
         "x": [
          0,
          0.2718601638969638,
          0.5437203277939276,
          0.8155804916908915,
          1.0874406555878553,
          1.359300819484819,
          1.631160983381783,
          1.9030211472787468,
          2.1748813111757106,
          2.4467414750726744,
          2.718601638969638,
          2.990461802866602,
          3.262321966763566,
          3.53418213066053,
          3.8060422945574937,
          4.077902458454457,
          4.349762622351421,
          4.621622786248385,
          4.893482950145349,
          5.1653431140423125,
          5.437203277939276,
          5.70906344183624,
          5.980923605733204,
          6.252783769630168,
          6.524643933527132,
          6.796504097424096,
          7.06836426132106,
          7.3402244252180235,
          7.612084589114987,
          7.883944753011951,
          8.155804916908915,
          8.427665080805879,
          8.699525244702842,
          8.971385408599806,
          9.24324557249677,
          9.515105736393734,
          9.786965900290697,
          10.058826064187661,
          10.330686228084625,
          10.602546391981589,
          10.874406555878553,
          11.146266719775516,
          11.41812688367248,
          11.689987047569444,
          11.961847211466408,
          12.233707375363371,
          12.505567539260335,
          12.777427703157299,
          13.049287867054264,
          13.321148030951228,
          13.593008194848192,
          13.864868358745156,
          14.13672852264212,
          14.408588686539083,
          14.680448850436047,
          14.95230901433301,
          15.224169178229975,
          15.496029342126938,
          15.767889506023902,
          16.039749669920866,
          16.31160983381783,
          16.583469997714793,
          16.855330161611757,
          17.12719032550872,
          17.399050489405685,
          17.67091065330265,
          17.942770817199612,
          18.214630981096576,
          18.48649114499354,
          18.758351308890504,
          19.030211472787467,
          19.30207163668443,
          19.573931800581395,
          19.84579196447836,
          20.117652128375322,
          20.389512292272286,
          20.66137245616925,
          20.933232620066214,
          21.205092783963178,
          21.47695294786014,
          21.748813111757105,
          22.02067327565407,
          22.292533439551033,
          22.564393603447996,
          22.83625376734496,
          23.108113931241924,
          23.379974095138888,
          23.65183425903585,
          23.923694422932815,
          24.19555458682978,
          24.467414750726743,
          24.739274914623707,
          25.01113507852067,
          25.282995242417634,
          25.554855406314598,
          25.82671557021156,
          26.09857573410853,
          26.370435898005493,
          26.642296061902456,
          26.91415622579942
         ],
         "y": [
          0,
          0.008033460084761213,
          0.016186938788008396,
          0.02445746619568481,
          0.03284207239373374,
          0.04133778746809842,
          0.04994164150472216,
          0.05865066458954819,
          0.06746188680851982,
          0.07637233824758026,
          0.08537904899267285,
          0.0944790491297408,
          0.1036828763422233,
          0.11309041599810823,
          0.12269329900609083,
          0.1324555116163628,
          0.14234104007911583,
          0.1523138706445417,
          0.16233798956283207,
          0.17237738308417871,
          0.18239603745877334,
          0.1923579389368077,
          0.20223026840417008,
          0.21205177795337904,
          0.22185313449936964,
          0.2316451997184588,
          0.24143883528696353,
          0.2512449028812007,
          0.2610742641774874,
          0.2709377808521405,
          0.280846314581477,
          0.2908107270418139,
          0.30084169464911464,
          0.3109353561338382,
          0.32108191153003157,
          0.3312762265320175,
          0.34151316683411864,
          0.3517875981306579,
          0.3620943861159582,
          0.3724283964843421,
          0.3827844949301326,
          0.3931575471476525,
          0.4035587088928901,
          0.41410452251498897,
          0.42477386324822636,
          0.43551119172659053,
          0.4462609685840696,
          0.4569676544546519,
          0.46757570997232567,
          0.4780295957710792,
          0.4882737724849006,
          0.4982527007477782,
          0.5079195823334899,
          0.5173024933461965,
          0.5264624505207565,
          0.5354605238828767,
          0.5443577834582638,
          0.5532152992726245,
          0.5620941413516652,
          0.5710553797210928,
          0.5801600844066138,
          0.5894693254339353,
          0.5990441197341113,
          0.6088448269338361,
          0.6187929861630806,
          0.628878966724695,
          0.6390931379215291,
          0.6494258690564331,
          0.6598675294322568,
          0.6704084883518504,
          0.6810391151180638,
          0.6917497790337472,
          0.7025412964785462,
          0.7135057291599961,
          0.7246378768842622,
          0.7359013088712774,
          0.7472595943409741,
          0.758676302513285,
          0.7701150026081426,
          0.7815392638454796,
          0.7929126554452284,
          0.8042315272187736,
          0.8156301436343862,
          0.8270915173615314,
          0.8385732119307365,
          0.8500327908725288,
          0.8614278177174357,
          0.8727158559959848,
          0.8838544692387034,
          0.8948012209761186,
          0.9055545910045736,
          0.9162049699975219,
          0.9267557742466302,
          0.9372043452856738,
          0.947548024648428,
          0.9577841538686684,
          0.9679100744801705,
          0.9779231280167093,
          0.9878206560120608,
          0.9976
         ]
        }
       ],
       "layout": {
        "plot_bgcolor": "rgba(0,0,0,0)",
        "showlegend": true,
        "template": {
         "data": {
          "bar": [
           {
            "error_x": {
             "color": "#2a3f5f"
            },
            "error_y": {
             "color": "#2a3f5f"
            },
            "marker": {
             "line": {
              "color": "#E5ECF6",
              "width": 0.5
             },
             "pattern": {
              "fillmode": "overlay",
              "size": 10,
              "solidity": 0.2
             }
            },
            "type": "bar"
           }
          ],
          "barpolar": [
           {
            "marker": {
             "line": {
              "color": "#E5ECF6",
              "width": 0.5
             },
             "pattern": {
              "fillmode": "overlay",
              "size": 10,
              "solidity": 0.2
             }
            },
            "type": "barpolar"
           }
          ],
          "carpet": [
           {
            "aaxis": {
             "endlinecolor": "#2a3f5f",
             "gridcolor": "white",
             "linecolor": "white",
             "minorgridcolor": "white",
             "startlinecolor": "#2a3f5f"
            },
            "baxis": {
             "endlinecolor": "#2a3f5f",
             "gridcolor": "white",
             "linecolor": "white",
             "minorgridcolor": "white",
             "startlinecolor": "#2a3f5f"
            },
            "type": "carpet"
           }
          ],
          "choropleth": [
           {
            "colorbar": {
             "outlinewidth": 0,
             "ticks": ""
            },
            "type": "choropleth"
           }
          ],
          "contour": [
           {
            "colorbar": {
             "outlinewidth": 0,
             "ticks": ""
            },
            "colorscale": [
             [
              0,
              "#0d0887"
             ],
             [
              0.1111111111111111,
              "#46039f"
             ],
             [
              0.2222222222222222,
              "#7201a8"
             ],
             [
              0.3333333333333333,
              "#9c179e"
             ],
             [
              0.4444444444444444,
              "#bd3786"
             ],
             [
              0.5555555555555556,
              "#d8576b"
             ],
             [
              0.6666666666666666,
              "#ed7953"
             ],
             [
              0.7777777777777778,
              "#fb9f3a"
             ],
             [
              0.8888888888888888,
              "#fdca26"
             ],
             [
              1,
              "#f0f921"
             ]
            ],
            "type": "contour"
           }
          ],
          "contourcarpet": [
           {
            "colorbar": {
             "outlinewidth": 0,
             "ticks": ""
            },
            "type": "contourcarpet"
           }
          ],
          "heatmap": [
           {
            "colorbar": {
             "outlinewidth": 0,
             "ticks": ""
            },
            "colorscale": [
             [
              0,
              "#0d0887"
             ],
             [
              0.1111111111111111,
              "#46039f"
             ],
             [
              0.2222222222222222,
              "#7201a8"
             ],
             [
              0.3333333333333333,
              "#9c179e"
             ],
             [
              0.4444444444444444,
              "#bd3786"
             ],
             [
              0.5555555555555556,
              "#d8576b"
             ],
             [
              0.6666666666666666,
              "#ed7953"
             ],
             [
              0.7777777777777778,
              "#fb9f3a"
             ],
             [
              0.8888888888888888,
              "#fdca26"
             ],
             [
              1,
              "#f0f921"
             ]
            ],
            "type": "heatmap"
           }
          ],
          "heatmapgl": [
           {
            "colorbar": {
             "outlinewidth": 0,
             "ticks": ""
            },
            "colorscale": [
             [
              0,
              "#0d0887"
             ],
             [
              0.1111111111111111,
              "#46039f"
             ],
             [
              0.2222222222222222,
              "#7201a8"
             ],
             [
              0.3333333333333333,
              "#9c179e"
             ],
             [
              0.4444444444444444,
              "#bd3786"
             ],
             [
              0.5555555555555556,
              "#d8576b"
             ],
             [
              0.6666666666666666,
              "#ed7953"
             ],
             [
              0.7777777777777778,
              "#fb9f3a"
             ],
             [
              0.8888888888888888,
              "#fdca26"
             ],
             [
              1,
              "#f0f921"
             ]
            ],
            "type": "heatmapgl"
           }
          ],
          "histogram": [
           {
            "marker": {
             "pattern": {
              "fillmode": "overlay",
              "size": 10,
              "solidity": 0.2
             }
            },
            "type": "histogram"
           }
          ],
          "histogram2d": [
           {
            "colorbar": {
             "outlinewidth": 0,
             "ticks": ""
            },
            "colorscale": [
             [
              0,
              "#0d0887"
             ],
             [
              0.1111111111111111,
              "#46039f"
             ],
             [
              0.2222222222222222,
              "#7201a8"
             ],
             [
              0.3333333333333333,
              "#9c179e"
             ],
             [
              0.4444444444444444,
              "#bd3786"
             ],
             [
              0.5555555555555556,
              "#d8576b"
             ],
             [
              0.6666666666666666,
              "#ed7953"
             ],
             [
              0.7777777777777778,
              "#fb9f3a"
             ],
             [
              0.8888888888888888,
              "#fdca26"
             ],
             [
              1,
              "#f0f921"
             ]
            ],
            "type": "histogram2d"
           }
          ],
          "histogram2dcontour": [
           {
            "colorbar": {
             "outlinewidth": 0,
             "ticks": ""
            },
            "colorscale": [
             [
              0,
              "#0d0887"
             ],
             [
              0.1111111111111111,
              "#46039f"
             ],
             [
              0.2222222222222222,
              "#7201a8"
             ],
             [
              0.3333333333333333,
              "#9c179e"
             ],
             [
              0.4444444444444444,
              "#bd3786"
             ],
             [
              0.5555555555555556,
              "#d8576b"
             ],
             [
              0.6666666666666666,
              "#ed7953"
             ],
             [
              0.7777777777777778,
              "#fb9f3a"
             ],
             [
              0.8888888888888888,
              "#fdca26"
             ],
             [
              1,
              "#f0f921"
             ]
            ],
            "type": "histogram2dcontour"
           }
          ],
          "mesh3d": [
           {
            "colorbar": {
             "outlinewidth": 0,
             "ticks": ""
            },
            "type": "mesh3d"
           }
          ],
          "parcoords": [
           {
            "line": {
             "colorbar": {
              "outlinewidth": 0,
              "ticks": ""
             }
            },
            "type": "parcoords"
           }
          ],
          "pie": [
           {
            "automargin": true,
            "type": "pie"
           }
          ],
          "scatter": [
           {
            "fillpattern": {
             "fillmode": "overlay",
             "size": 10,
             "solidity": 0.2
            },
            "type": "scatter"
           }
          ],
          "scatter3d": [
           {
            "line": {
             "colorbar": {
              "outlinewidth": 0,
              "ticks": ""
             }
            },
            "marker": {
             "colorbar": {
              "outlinewidth": 0,
              "ticks": ""
             }
            },
            "type": "scatter3d"
           }
          ],
          "scattercarpet": [
           {
            "marker": {
             "colorbar": {
              "outlinewidth": 0,
              "ticks": ""
             }
            },
            "type": "scattercarpet"
           }
          ],
          "scattergeo": [
           {
            "marker": {
             "colorbar": {
              "outlinewidth": 0,
              "ticks": ""
             }
            },
            "type": "scattergeo"
           }
          ],
          "scattergl": [
           {
            "marker": {
             "colorbar": {
              "outlinewidth": 0,
              "ticks": ""
             }
            },
            "type": "scattergl"
           }
          ],
          "scattermapbox": [
           {
            "marker": {
             "colorbar": {
              "outlinewidth": 0,
              "ticks": ""
             }
            },
            "type": "scattermapbox"
           }
          ],
          "scatterpolar": [
           {
            "marker": {
             "colorbar": {
              "outlinewidth": 0,
              "ticks": ""
             }
            },
            "type": "scatterpolar"
           }
          ],
          "scatterpolargl": [
           {
            "marker": {
             "colorbar": {
              "outlinewidth": 0,
              "ticks": ""
             }
            },
            "type": "scatterpolargl"
           }
          ],
          "scatterternary": [
           {
            "marker": {
             "colorbar": {
              "outlinewidth": 0,
              "ticks": ""
             }
            },
            "type": "scatterternary"
           }
          ],
          "surface": [
           {
            "colorbar": {
             "outlinewidth": 0,
             "ticks": ""
            },
            "colorscale": [
             [
              0,
              "#0d0887"
             ],
             [
              0.1111111111111111,
              "#46039f"
             ],
             [
              0.2222222222222222,
              "#7201a8"
             ],
             [
              0.3333333333333333,
              "#9c179e"
             ],
             [
              0.4444444444444444,
              "#bd3786"
             ],
             [
              0.5555555555555556,
              "#d8576b"
             ],
             [
              0.6666666666666666,
              "#ed7953"
             ],
             [
              0.7777777777777778,
              "#fb9f3a"
             ],
             [
              0.8888888888888888,
              "#fdca26"
             ],
             [
              1,
              "#f0f921"
             ]
            ],
            "type": "surface"
           }
          ],
          "table": [
           {
            "cells": {
             "fill": {
              "color": "#EBF0F8"
             },
             "line": {
              "color": "white"
             }
            },
            "header": {
             "fill": {
              "color": "#C8D4E3"
             },
             "line": {
              "color": "white"
             }
            },
            "type": "table"
           }
          ]
         },
         "layout": {
          "annotationdefaults": {
           "arrowcolor": "#2a3f5f",
           "arrowhead": 0,
           "arrowwidth": 1
          },
          "autotypenumbers": "strict",
          "coloraxis": {
           "colorbar": {
            "outlinewidth": 0,
            "ticks": ""
           }
          },
          "colorscale": {
           "diverging": [
            [
             0,
             "#8e0152"
            ],
            [
             0.1,
             "#c51b7d"
            ],
            [
             0.2,
             "#de77ae"
            ],
            [
             0.3,
             "#f1b6da"
            ],
            [
             0.4,
             "#fde0ef"
            ],
            [
             0.5,
             "#f7f7f7"
            ],
            [
             0.6,
             "#e6f5d0"
            ],
            [
             0.7,
             "#b8e186"
            ],
            [
             0.8,
             "#7fbc41"
            ],
            [
             0.9,
             "#4d9221"
            ],
            [
             1,
             "#276419"
            ]
           ],
           "sequential": [
            [
             0,
             "#0d0887"
            ],
            [
             0.1111111111111111,
             "#46039f"
            ],
            [
             0.2222222222222222,
             "#7201a8"
            ],
            [
             0.3333333333333333,
             "#9c179e"
            ],
            [
             0.4444444444444444,
             "#bd3786"
            ],
            [
             0.5555555555555556,
             "#d8576b"
            ],
            [
             0.6666666666666666,
             "#ed7953"
            ],
            [
             0.7777777777777778,
             "#fb9f3a"
            ],
            [
             0.8888888888888888,
             "#fdca26"
            ],
            [
             1,
             "#f0f921"
            ]
           ],
           "sequentialminus": [
            [
             0,
             "#0d0887"
            ],
            [
             0.1111111111111111,
             "#46039f"
            ],
            [
             0.2222222222222222,
             "#7201a8"
            ],
            [
             0.3333333333333333,
             "#9c179e"
            ],
            [
             0.4444444444444444,
             "#bd3786"
            ],
            [
             0.5555555555555556,
             "#d8576b"
            ],
            [
             0.6666666666666666,
             "#ed7953"
            ],
            [
             0.7777777777777778,
             "#fb9f3a"
            ],
            [
             0.8888888888888888,
             "#fdca26"
            ],
            [
             1,
             "#f0f921"
            ]
           ]
          },
          "colorway": [
           "#636efa",
           "#EF553B",
           "#00cc96",
           "#ab63fa",
           "#FFA15A",
           "#19d3f3",
           "#FF6692",
           "#B6E880",
           "#FF97FF",
           "#FECB52"
          ],
          "font": {
           "color": "#2a3f5f"
          },
          "geo": {
           "bgcolor": "white",
           "lakecolor": "white",
           "landcolor": "#E5ECF6",
           "showlakes": true,
           "showland": true,
           "subunitcolor": "white"
          },
          "hoverlabel": {
           "align": "left"
          },
          "hovermode": "closest",
          "mapbox": {
           "style": "light"
          },
          "paper_bgcolor": "white",
          "plot_bgcolor": "#E5ECF6",
          "polar": {
           "angularaxis": {
            "gridcolor": "white",
            "linecolor": "white",
            "ticks": ""
           },
           "bgcolor": "#E5ECF6",
           "radialaxis": {
            "gridcolor": "white",
            "linecolor": "white",
            "ticks": ""
           }
          },
          "scene": {
           "xaxis": {
            "backgroundcolor": "#E5ECF6",
            "gridcolor": "white",
            "gridwidth": 2,
            "linecolor": "white",
            "showbackground": true,
            "ticks": "",
            "zerolinecolor": "white"
           },
           "yaxis": {
            "backgroundcolor": "#E5ECF6",
            "gridcolor": "white",
            "gridwidth": 2,
            "linecolor": "white",
            "showbackground": true,
            "ticks": "",
            "zerolinecolor": "white"
           },
           "zaxis": {
            "backgroundcolor": "#E5ECF6",
            "gridcolor": "white",
            "gridwidth": 2,
            "linecolor": "white",
            "showbackground": true,
            "ticks": "",
            "zerolinecolor": "white"
           }
          },
          "shapedefaults": {
           "line": {
            "color": "#2a3f5f"
           }
          },
          "ternary": {
           "aaxis": {
            "gridcolor": "white",
            "linecolor": "white",
            "ticks": ""
           },
           "baxis": {
            "gridcolor": "white",
            "linecolor": "white",
            "ticks": ""
           },
           "bgcolor": "#E5ECF6",
           "caxis": {
            "gridcolor": "white",
            "linecolor": "white",
            "ticks": ""
           }
          },
          "title": {
           "x": 0.05
          },
          "xaxis": {
           "automargin": true,
           "gridcolor": "white",
           "linecolor": "white",
           "ticks": "",
           "title": {
            "standoff": 15
           },
           "zerolinecolor": "white",
           "zerolinewidth": 2
          },
          "yaxis": {
           "automargin": true,
           "gridcolor": "white",
           "linecolor": "white",
           "ticks": "",
           "title": {
            "standoff": 15
           },
           "zerolinecolor": "white",
           "zerolinewidth": 2
          }
         }
        },
        "title": {
         "text": "Resultados da Interpolação PCHIP"
        },
        "xaxis": {
         "title": {
          "text": "f"
         }
        },
        "yaxis": {
         "title": {
          "text": "Probabilidade Acumulada"
         }
        }
       }
      }
     },
     "metadata": {},
     "output_type": "display_data"
    }
   ],
   "source": [
    "fracao = np.concatenate((np.array([0]), lista_intermed))/n # Identifica a fração total de pontos de 0 até o ponto v\n",
    "\n",
    "interp = PchipInterpolator(lista_v, fracao)\n",
    "# Utiliza um interpolador PCHIP para gerar um polinômio de terceiro grau que aproxime W(v)\n",
    "# Dessa forma, obtém-se U(v)\n",
    "\n",
    "# Define os pontos onde deseja-se avaliar a função interpolada\n",
    "x_new = np.linspace(0, lista_v[-1], 100)\n",
    "\n",
    "# Avalia a função interpolada nos novos pontos\n",
    "y_new = interp(x_new)\n",
    "\n",
    "fig = go.Figure()\n",
    "\n",
    "# Scatter plot dos dados originais\n",
    "fig.add_trace(go.Scatter(x=lista_v, y=fracao, mode='markers', marker=dict(color='blue', symbol='circle'), name='Dados Originais'))\n",
    "\n",
    "# Linha de interpolação PCHIP\n",
    "fig.add_trace(go.Scatter(x=x_new, y=y_new, mode='lines', name='Interpolação PCHIP'))\n",
    "\n",
    "# Layout\n",
    "fig.update_layout(title='Resultados da Interpolação PCHIP',\n",
    "                  xaxis_title='f',\n",
    "                  yaxis_title='Probabilidade Acumulada',\n",
    "                  showlegend=True,\n",
    "                  plot_bgcolor='rgba(0,0,0,0)') # Define a cor de fundo do plot\n",
    "\n",
    "fig.show()"
   ]
  },
  {
   "cell_type": "code",
   "execution_count": null,
   "metadata": {},
   "outputs": [],
   "source": []
  }
 ],
 "metadata": {
  "kernelspec": {
   "display_name": "Python 3",
   "language": "python",
   "name": "python3"
  },
  "language_info": {
   "codemirror_mode": {
    "name": "ipython",
    "version": 3
   },
   "file_extension": ".py",
   "mimetype": "text/x-python",
   "name": "python",
   "nbconvert_exporter": "python",
   "pygments_lexer": "ipython3",
   "version": "3.11.4"
  }
 },
 "nbformat": 4,
 "nbformat_minor": 2
}
